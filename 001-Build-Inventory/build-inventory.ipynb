{
 "cells": [
  {
   "cell_type": "markdown",
   "metadata": {},
   "source": [
    "# Build an inventory\n",
    "\n",
    "This notebook focuses on building an inventory of URLs to be used as part of an indexing pipeline in subsequent steps."
   ]
  },
  {
   "cell_type": "markdown",
   "metadata": {},
   "source": [
    "## 1. Setup\n",
    "Ensure that the required environment variables are set.\n",
    "\n",
    "### 1a. Load environment variables"
   ]
  },
  {
   "cell_type": "code",
   "execution_count": null,
   "metadata": {},
   "outputs": [],
   "source": [
    "! pip install python-dotenv --quiet\n",
    "from dotenv import load_dotenv\n",
    "load_dotenv('../.env')"
   ]
  },
  {
   "cell_type": "markdown",
   "metadata": {},
   "source": [
    "## 2. Build the sitemap"
   ]
  },
  {
   "cell_type": "markdown",
   "metadata": {},
   "source": [
    "### 2a. Load sitemap and fetch endpoint urls"
   ]
  },
  {
   "cell_type": "code",
   "execution_count": null,
   "metadata": {},
   "outputs": [],
   "source": [
    "base_url = ''\n",
    "allowed_paths = [\n",
    "#   '/allowed-path-1',\n",
    "]"
   ]
  },
  {
   "cell_type": "markdown",
   "metadata": {},
   "source": [
    "### 2b. Parse the sitemap and generate a list of urls"
   ]
  },
  {
   "cell_type": "code",
   "execution_count": null,
   "metadata": {},
   "outputs": [],
   "source": [
    "! pip install lxml --quiet\n",
    "! pip install beautifulsoup4 --quiet\n",
    "! pip install requests --quiet\n",
    "\n",
    "%run -i ../utilities/sitemap.py\n",
    "\n",
    "# Validate the base URL\n",
    "is_url_valid(base_url)\n",
    "\n",
    "# Fetch the sitemap as a list of URLs\n",
    "sitemap = parse_sitemap(fetch_sitemap(url=base_url))\n",
    "\n",
    "# Print a count of the URLs in the sitemap\n",
    "print(f'The sitemap contains {len(sitemap)} URLs')"
   ]
  },
  {
   "cell_type": "markdown",
   "metadata": {},
   "source": [
    "### 2c. Fix the urls as follows\n",
    "- Remove duplicates\n",
    "- Remove urls that are not within the allowed paths\n",
    "- Sort the urls"
   ]
  },
  {
   "cell_type": "code",
   "execution_count": null,
   "metadata": {},
   "outputs": [],
   "source": [
    "# Filter and sort the URLs. Only include URLs that contain one of the allowed paths\n",
    "sitemap = sorted(list(set(filter_urls(urls=sitemap, allowed_paths=allowed_paths))))\n",
    "print(f'After filtering, the sitemap contains {len(sitemap)} unique URLs')"
   ]
  },
  {
   "cell_type": "markdown",
   "metadata": {},
   "source": [
    "### 2d. Store the inventory of urls to Azure Storage"
   ]
  },
  {
   "cell_type": "code",
   "execution_count": null,
   "metadata": {},
   "outputs": [],
   "source": [
    "! pip install azure-data-tables --quiet\n",
    "\n",
    "%run -i ../utilities/storeInventory.py\n",
    "\n",
    "create_inventory_from_urls(sitemap)   "
   ]
  },
  {
   "cell_type": "markdown",
   "metadata": {},
   "source": [
    "### 2e. Cleanup the inventory of urls by deleting the table"
   ]
  },
  {
   "cell_type": "code",
   "execution_count": null,
   "metadata": {},
   "outputs": [],
   "source": [
    "# Adding the option to delete the table if needed\n",
    "#delete_inventory_table()"
   ]
  }
 ],
 "metadata": {
  "kernelspec": {
   "display_name": "Python 3",
   "language": "python",
   "name": "python3"
  },
  "language_info": {
   "codemirror_mode": {
    "name": "ipython",
    "version": 3
   },
   "file_extension": ".py",
   "mimetype": "text/x-python",
   "name": "python",
   "nbconvert_exporter": "python",
   "pygments_lexer": "ipython3",
   "version": "3.12.3"
  }
 },
 "nbformat": 4,
 "nbformat_minor": 2
}
