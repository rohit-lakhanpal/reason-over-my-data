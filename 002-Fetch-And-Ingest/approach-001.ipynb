{
 "cells": [
  {
   "cell_type": "markdown",
   "metadata": {},
   "source": [
    "# Fetch and Ingest Inventory"
   ]
  },
  {
   "cell_type": "markdown",
   "metadata": {},
   "source": [
    "## 1. Setup\n",
    "Ensure that the required environment variables are set.\n",
    "\n",
    "### 1a. Load environment variables"
   ]
  },
  {
   "cell_type": "code",
   "execution_count": null,
   "metadata": {},
   "outputs": [],
   "source": [
    "! pip install python-dotenv --quiet\n",
    "from dotenv import load_dotenv\n",
    "load_dotenv('../.env')"
   ]
  },
  {
   "cell_type": "markdown",
   "metadata": {},
   "source": [
    "### 1b. Install pre-requisite libraries"
   ]
  },
  {
   "cell_type": "code",
   "execution_count": null,
   "metadata": {},
   "outputs": [],
   "source": [
    "! pip install requests beautifulsoup4 markdownify urllib3 --quiet\n",
    "! pip install ipykernel --quiet\n",
    "! pip install ipywidgets --quiet\n",
    "! pip install llama-index llama-index-vector-stores-azureaisearch --quiet\n",
    "! pip install azure-search-documents --quiet\n",
    "! pip install azure-data-tables --quiet"
   ]
  },
  {
   "cell_type": "markdown",
   "metadata": {},
   "source": [
    "## 2. Load, Fetch and Store Inventory Items"
   ]
  },
  {
   "cell_type": "markdown",
   "metadata": {},
   "source": [
    "### 2a. Fetch rows of the table & ingest the url"
   ]
  },
  {
   "cell_type": "code",
   "execution_count": null,
   "metadata": {},
   "outputs": [],
   "source": [
    "%run -i ../utilities/storeInventory.py\n",
    "%run -i ../utilities/fetchAndIngest.py\n",
    "\n",
    "# Print the number of rows in the inventory table\n",
    "print(f'The inventory table contains {get_inventory_table_count()} rows.')\n",
    "\n",
    "# Fetch rows 100 and 110 of the table & ingest the url\n",
    "for inventory in get_inventory_entities_by_page(page_size=10, page_number=10):\n",
    "    print(f'Indexing {inventory['Url']} ...')\n",
    "    fetch_and_ingest_url_approach_001(inventory['Url'])"
   ]
  },
  {
   "cell_type": "markdown",
   "metadata": {},
   "source": [
    "### 2b. Query the index for an answer using only vector search and print results with sources."
   ]
  },
  {
   "cell_type": "code",
   "execution_count": null,
   "metadata": {},
   "outputs": [],
   "source": [
    "from IPython.display import Markdown \n",
    "\n",
    "query_engine = get_search_index(\"001\").as_query_engine(\n",
    "    similarity_top_k=3,\n",
    ")\n",
    "\n",
    "#query_engine = result.as_query_engine(similarity_top_k=3)        \n",
    "response = query_engine.query(\"What is UAC and how do I disable it?\")\n",
    "display(Markdown(f\"{response}\"))\n",
    "for source in response.source_nodes:\n",
    "    print(f'Source: {source.metadata['url']} with score {source.score}')\n",
    "        "
   ]
  },
  {
   "cell_type": "markdown",
   "metadata": {},
   "source": [
    "### 2c. Add option for Hybric Search"
   ]
  },
  {
   "cell_type": "code",
   "execution_count": null,
   "metadata": {},
   "outputs": [],
   "source": [
    "from IPython.display import Markdown \n",
    "from llama_index.core.vector_stores.types import VectorStoreQueryMode\n",
    "\n",
    "query_engine = get_search_index(\"001\").as_query_engine(\n",
    "    similarity_top_k=3,\n",
    "    vector_store_query_mode=VectorStoreQueryMode.SEMANTIC_HYBRID\n",
    ")\n",
    "\n",
    "#query_engine = result.as_query_engine(similarity_top_k=3)        \n",
    "response = query_engine.query(\"What is UAC and how do I disable it?\")\n",
    "display(Markdown(f\"{response}\"))\n",
    "for source in response.source_nodes:\n",
    "    print(f'Source: {source.metadata['url']} with score {source.score}')"
   ]
  }
 ],
 "metadata": {
  "kernelspec": {
   "display_name": "Python 3",
   "language": "python",
   "name": "python3"
  },
  "language_info": {
   "codemirror_mode": {
    "name": "ipython",
    "version": 3
   },
   "file_extension": ".py",
   "mimetype": "text/x-python",
   "name": "python",
   "nbconvert_exporter": "python",
   "pygments_lexer": "ipython3",
   "version": "3.12.3"
  }
 },
 "nbformat": 4,
 "nbformat_minor": 2
}
